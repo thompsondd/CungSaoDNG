{
 "cells": [
  {
   "cell_type": "code",
   "execution_count": 7,
   "metadata": {},
   "outputs": [],
   "source": [
    "sao=[   \"Thái Âm\", \"Thái Dương\", \"Mộc Đức\",\n",
    "        \"Thổ Tú\", \"Vân Hớn\", \"Thủy Diệu\",\n",
    "        \"Kế Đô\", \"La Hầu\", \"Thái Bạch\"\n",
    "    ]\n",
    "\n",
    "han=[   \"Huỳnh Tiền\",\"Tam Kheo\",\"Ngũ Mộ\",\n",
    "        \"Thiên Tinh\",\"Tán Tận\",\"Thiên La\",\n",
    "        \"Địa Võng\",\"Diêm Vương\"\n",
    "    ]\n",
    "decode_sao = {id:name for id,name in enumerate(sao)}\n",
    "decode_han = {id:name for id,name in enumerate(han)}"
   ]
  },
  {
   "cell_type": "code",
   "execution_count": 87,
   "metadata": {},
   "outputs": [],
   "source": [
    "based_sao={ \"nam\":[7,3,5,8,1,4,6,0,2],\n",
    "            \"nu\":[6,4,2,0,3,7,1,8,5]\n",
    "          }\n",
    "\n",
    "based_han={ \"nam\":[0,1,2,3,4,5,6,7],\n",
    "            \"nu\":[4,3,2,1,0,7,6,5]\n",
    "          }"
   ]
  },
  {
   "cell_type": "code",
   "execution_count": 105,
   "metadata": {},
   "outputs": [],
   "source": [
    "def calSao(gioiTinh,tuoi,based_sao,decode_sao):\n",
    "    bs = based_sao[gioiTinh]\n",
    "    return decode_sao[bs[tuoi%len(bs)-1]]\n",
    "\n",
    "def calHan(gioiTinh,tuoi,based_han,decode_han):\n",
    "    bs = based_han[gioiTinh]\n",
    "    a = tuoi//9\n",
    "    b = tuoi%9\n",
    "    print(a)\n",
    "    print(b)\n",
    "    pos = b\n",
    "    if a==b:\n",
    "        pos = a-1\n",
    "    if b>a:\n",
    "        pos = b-1\n",
    "    return decode_han[bs[pos]]"
   ]
  },
  {
   "cell_type": "code",
   "execution_count": 108,
   "metadata": {},
   "outputs": [
    {
     "name": "stdout",
     "output_type": "stream",
     "text": [
      "8\n",
      "8\n"
     ]
    },
    {
     "data": {
      "text/plain": [
       "'Thiên La'"
      ]
     },
     "execution_count": 108,
     "metadata": {},
     "output_type": "execute_result"
    }
   ],
   "source": [
    "calHan(\"nu\",80,based_han,decode_han)"
   ]
  },
  {
   "cell_type": "code",
   "execution_count": 67,
   "metadata": {},
   "outputs": [
    {
     "name": "stdout",
     "output_type": "stream",
     "text": [
      "72 // 8: 9\n",
      "72 % 8: 0\n"
     ]
    }
   ],
   "source": [
    "a = 72\n",
    "print(f\"{a} // 8: {a//8}\")\n",
    "print(f\"{a} % 8: {a%8}\")"
   ]
  },
  {
   "cell_type": "code",
   "execution_count": 97,
   "metadata": {},
   "outputs": [
    {
     "name": "stdout",
     "output_type": "stream",
     "text": [
      "10 // 9: 1\n",
      "10 % 9: 1\n"
     ]
    }
   ],
   "source": [
    "a = 10\n",
    "print(f\"{a} // 9: {a//9}\")\n",
    "print(f\"{a} % 9: {a%9}\")"
   ]
  },
  {
   "cell_type": "code",
   "execution_count": 40,
   "metadata": {},
   "outputs": [],
   "source": [
    "import matplotlib.pyplot as plt"
   ]
  },
  {
   "cell_type": "code",
   "execution_count": 41,
   "metadata": {},
   "outputs": [
    {
     "ename": "TypeError",
     "evalue": "range expected at least 1 argument, got 0",
     "output_type": "error",
     "traceback": [
      "\u001b[1;31m---------------------------------------------------------------------------\u001b[0m",
      "\u001b[1;31mTypeError\u001b[0m                                 Traceback (most recent call last)",
      "\u001b[1;32mc:\\Users\\Dang\\Desktop\\Cúng sao\\demo.ipynb Cell 7\u001b[0m in \u001b[0;36m<cell line: 5>\u001b[1;34m()\u001b[0m\n\u001b[0;32m      <a href='vscode-notebook-cell:/c%3A/Users/Dang/Desktop/C%C3%BAng%20sao/demo.ipynb#X12sZmlsZQ%3D%3D?line=1'>2</a>\u001b[0m p \u001b[39m=\u001b[39m []\n\u001b[0;32m      <a href='vscode-notebook-cell:/c%3A/Users/Dang/Desktop/C%C3%BAng%20sao/demo.ipynb#X12sZmlsZQ%3D%3D?line=3'>4</a>\u001b[0m c\u001b[39m=\u001b[39m\u001b[39m0\u001b[39m\n\u001b[1;32m----> <a href='vscode-notebook-cell:/c%3A/Users/Dang/Desktop/C%C3%BAng%20sao/demo.ipynb#X12sZmlsZQ%3D%3D?line=4'>5</a>\u001b[0m \u001b[39mfor\u001b[39;00m i \u001b[39min\u001b[39;00m \u001b[39mrange\u001b[39m(): \u001b[39mpass\u001b[39;00m\n",
      "\u001b[1;31mTypeError\u001b[0m: range expected at least 1 argument, got 0"
     ]
    }
   ],
   "source": [
    "d = [i for i in range(10,91)]\n",
    "p = []\n",
    "\n",
    "c=0\n",
    "for i in range(): pass"
   ]
  },
  {
   "cell_type": "code",
   "execution_count": null,
   "metadata": {},
   "outputs": [],
   "source": []
  }
 ],
 "metadata": {
  "kernelspec": {
   "display_name": "CS116",
   "language": "python",
   "name": "python3"
  },
  "language_info": {
   "codemirror_mode": {
    "name": "ipython",
    "version": 3
   },
   "file_extension": ".py",
   "mimetype": "text/x-python",
   "name": "python",
   "nbconvert_exporter": "python",
   "pygments_lexer": "ipython3",
   "version": "3.9.13"
  },
  "orig_nbformat": 4,
  "vscode": {
   "interpreter": {
    "hash": "f51ae8e5ad722399a2b2d9e8e3821634d7e19708138ba05bedf75d758989a752"
   }
  }
 },
 "nbformat": 4,
 "nbformat_minor": 2
}
